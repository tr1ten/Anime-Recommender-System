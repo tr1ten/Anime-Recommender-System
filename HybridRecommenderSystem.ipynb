{
  "nbformat": 4,
  "nbformat_minor": 0,
  "metadata": {
    "colab": {
      "name": "HybridRecommenderSystem.ipynb",
      "provenance": [],
      "collapsed_sections": [],
      "toc_visible": true
    },
    "kernelspec": {
      "display_name": "Python 3",
      "name": "python3"
    },
    "language_info": {
      "name": "python"
    }
  },
  "cells": [
    {
      "cell_type": "code",
      "metadata": {
        "id": "9MNzF2bgNKNC"
      },
      "source": [
        "#import required libraries\n",
        "from lightfm import LightFM\n",
        "from lightfm.evaluation import precision_at_k\n",
        "import pandas as pd\n",
        "import numpy as np\n",
        "import matplotlib.pyplot as plt\n",
        "import pandas_profiling\n",
        "from scipy.sparse import csr_matrix\n",
        "from lightfm.evaluation import auc_score\n",
        "from lightfm.data import Dataset\n"
      ],
      "execution_count": null,
      "outputs": []
    },
    {
      "cell_type": "code",
      "metadata": {
        "colab": {
          "resources": {
            "http://localhost:8080/nbextensions/google.colab/files.js": {
              "data": "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",
              "headers": [
                [
                  "content-type",
                  "application/javascript"
                ]
              ],
              "ok": true,
              "status": 200,
              "status_text": ""
            }
          },
          "base_uri": "https://localhost:8080/",
          "height": 453
        },
        "id": "t28jE41lNfIQ",
        "outputId": "66bc9ce3-ee11-4715-b016-56ceb8b046d5"
      },
      "source": [
        "!pip install lightFm\n",
        "! pip install -q kaggle\n"
      ],
      "execution_count": null,
      "outputs": [
        {
          "name": "stdout",
          "output_type": "stream",
          "text": [
            "Collecting lightFm\n",
            "  Downloading lightfm-1.16.tar.gz (310 kB)\n",
            "\u001b[?25l\r\u001b[K     |█                               | 10 kB 23.2 MB/s eta 0:00:01\r\u001b[K     |██▏                             | 20 kB 29.7 MB/s eta 0:00:01\r\u001b[K     |███▏                            | 30 kB 12.7 MB/s eta 0:00:01\r\u001b[K     |████▎                           | 40 kB 9.5 MB/s eta 0:00:01\r\u001b[K     |█████▎                          | 51 kB 5.2 MB/s eta 0:00:01\r\u001b[K     |██████▍                         | 61 kB 5.7 MB/s eta 0:00:01\r\u001b[K     |███████▍                        | 71 kB 5.6 MB/s eta 0:00:01\r\u001b[K     |████████▌                       | 81 kB 6.2 MB/s eta 0:00:01\r\u001b[K     |█████████▌                      | 92 kB 4.6 MB/s eta 0:00:01\r\u001b[K     |██████████▋                     | 102 kB 5.1 MB/s eta 0:00:01\r\u001b[K     |███████████▋                    | 112 kB 5.1 MB/s eta 0:00:01\r\u001b[K     |████████████▊                   | 122 kB 5.1 MB/s eta 0:00:01\r\u001b[K     |█████████████▊                  | 133 kB 5.1 MB/s eta 0:00:01\r\u001b[K     |██████████████▉                 | 143 kB 5.1 MB/s eta 0:00:01\r\u001b[K     |███████████████▉                | 153 kB 5.1 MB/s eta 0:00:01\r\u001b[K     |█████████████████               | 163 kB 5.1 MB/s eta 0:00:01\r\u001b[K     |██████████████████              | 174 kB 5.1 MB/s eta 0:00:01\r\u001b[K     |███████████████████             | 184 kB 5.1 MB/s eta 0:00:01\r\u001b[K     |████████████████████            | 194 kB 5.1 MB/s eta 0:00:01\r\u001b[K     |█████████████████████▏          | 204 kB 5.1 MB/s eta 0:00:01\r\u001b[K     |██████████████████████▏         | 215 kB 5.1 MB/s eta 0:00:01\r\u001b[K     |███████████████████████▎        | 225 kB 5.1 MB/s eta 0:00:01\r\u001b[K     |████████████████████████▎       | 235 kB 5.1 MB/s eta 0:00:01\r\u001b[K     |█████████████████████████▍      | 245 kB 5.1 MB/s eta 0:00:01\r\u001b[K     |██████████████████████████▍     | 256 kB 5.1 MB/s eta 0:00:01\r\u001b[K     |███████████████████████████▌    | 266 kB 5.1 MB/s eta 0:00:01\r\u001b[K     |████████████████████████████▌   | 276 kB 5.1 MB/s eta 0:00:01\r\u001b[K     |█████████████████████████████▋  | 286 kB 5.1 MB/s eta 0:00:01\r\u001b[K     |██████████████████████████████▋ | 296 kB 5.1 MB/s eta 0:00:01\r\u001b[K     |███████████████████████████████▊| 307 kB 5.1 MB/s eta 0:00:01\r\u001b[K     |████████████████████████████████| 310 kB 5.1 MB/s \n",
            "\u001b[?25hRequirement already satisfied: numpy in /usr/local/lib/python3.7/dist-packages (from lightFm) (1.19.5)\n",
            "Requirement already satisfied: scipy>=0.17.0 in /usr/local/lib/python3.7/dist-packages (from lightFm) (1.4.1)\n",
            "Requirement already satisfied: requests in /usr/local/lib/python3.7/dist-packages (from lightFm) (2.23.0)\n",
            "Requirement already satisfied: scikit-learn in /usr/local/lib/python3.7/dist-packages (from lightFm) (0.22.2.post1)\n",
            "Requirement already satisfied: idna<3,>=2.5 in /usr/local/lib/python3.7/dist-packages (from requests->lightFm) (2.10)\n",
            "Requirement already satisfied: urllib3!=1.25.0,!=1.25.1,<1.26,>=1.21.1 in /usr/local/lib/python3.7/dist-packages (from requests->lightFm) (1.24.3)\n",
            "Requirement already satisfied: chardet<4,>=3.0.2 in /usr/local/lib/python3.7/dist-packages (from requests->lightFm) (3.0.4)\n",
            "Requirement already satisfied: certifi>=2017.4.17 in /usr/local/lib/python3.7/dist-packages (from requests->lightFm) (2021.5.30)\n",
            "Requirement already satisfied: joblib>=0.11 in /usr/local/lib/python3.7/dist-packages (from scikit-learn->lightFm) (1.0.1)\n",
            "Building wheels for collected packages: lightFm\n",
            "  Building wheel for lightFm (setup.py) ... \u001b[?25l\u001b[?25hdone\n",
            "  Created wheel for lightFm: filename=lightfm-1.16-cp37-cp37m-linux_x86_64.whl size=705349 sha256=78df48e6660de8576d7ff53fd7d4e18ed40f609364cb4b63d0200fede0ea2607\n",
            "  Stored in directory: /root/.cache/pip/wheels/f8/56/28/5772a3bd3413d65f03aa452190b00898b680b10028a1021914\n",
            "Successfully built lightFm\n",
            "Installing collected packages: lightFm\n",
            "Successfully installed lightFm-1.16\n"
          ]
        },
        {
          "data": {
            "text/html": [
              "\n",
              "     <input type=\"file\" id=\"files-68bed643-7367-45a2-a1c6-6d351705a3c7\" name=\"files[]\" multiple disabled\n",
              "        style=\"border:none\" />\n",
              "     <output id=\"result-68bed643-7367-45a2-a1c6-6d351705a3c7\">\n",
              "      Upload widget is only available when the cell has been executed in the\n",
              "      current browser session. Please rerun this cell to enable.\n",
              "      </output>\n",
              "      <script src=\"/nbextensions/google.colab/files.js\"></script> "
            ],
            "text/plain": [
              "<IPython.core.display.HTML object>"
            ]
          },
          "metadata": {},
          "output_type": "display_data"
        },
        {
          "name": "stdout",
          "output_type": "stream",
          "text": [
            "Saving kaggle.json to kaggle.json\n"
          ]
        },
        {
          "data": {
            "text/plain": [
              "{'kaggle.json': b'{\"username\":\"trit10\",\"key\":\"636ceb7dc24528f5822acc1f4f3e4d45\"}'}"
            ]
          },
          "execution_count": 2,
          "metadata": {},
          "output_type": "execute_result"
        }
      ]
    },
    {
      "cell_type": "code",
      "metadata": {
        "id": "KhQxQwhfNyPm"
      },
      "source": [
        "#Getting Dataset add your api json file\n",
        "from google.colab import files\n",
        "files.upload()"
      ],
      "execution_count": null,
      "outputs": []
    },
    {
      "cell_type": "code",
      "metadata": {
        "colab": {
          "base_uri": "https://localhost:8080/"
        },
        "id": "8XhbZi2AN-nV",
        "outputId": "3dd46e5a-68cb-4e50-e436-14b80103bb45"
      },
      "source": [
        "! mkdir ~/.kaggle\n",
        "! cp kaggle.json ~/.kaggle/\n",
        "! chmod 600 ~/.kaggle/kaggle.json\n",
        "!kaggle datasets download -d CooperUnion/anime-recommendations-database"
      ],
      "execution_count": null,
      "outputs": [
        {
          "name": "stdout",
          "output_type": "stream",
          "text": [
            "Downloading anime-recommendations-database.zip to /content\n",
            " 60% 15.0M/25.0M [00:00<00:00, 50.3MB/s]\n",
            "100% 25.0M/25.0M [00:00<00:00, 82.6MB/s]\n"
          ]
        }
      ]
    },
    {
      "cell_type": "code",
      "metadata": {
        "colab": {
          "base_uri": "https://localhost:8080/"
        },
        "id": "SMBkeepOOP1_",
        "outputId": "22b3f355-7897-401f-8e67-e8b6efc7ff9f"
      },
      "source": [
        "!unzip anime-recommendations-database.zip -d train"
      ],
      "execution_count": null,
      "outputs": [
        {
          "name": "stdout",
          "output_type": "stream",
          "text": [
            "Archive:  anime-recommendations-database.zip\n",
            "  inflating: train/anime.csv         \n",
            "  inflating: train/rating.csv        \n"
          ]
        }
      ]
    },
    {
      "cell_type": "markdown",
      "metadata": {
        "id": "nThnW42yOS20"
      },
      "source": [
        "# Hybrid Anime Recommender System Model"
      ]
    },
    {
      "cell_type": "code",
      "metadata": {
        "id": "TaebbVyhOZZ6"
      },
      "source": [
        "anime = pd.read_csv('./train/anime.csv')\n",
        "rating = pd.read_csv('./train/rating.csv')\n",
        "n_user = 10000"
      ],
      "execution_count": null,
      "outputs": []
    },
    {
      "cell_type": "code",
      "metadata": {
        "id": "pdlEGpH3OrMu"
      },
      "source": [
        "def sigmoid(x):  \n",
        "    return np.exp(-np.logaddexp(0, -x))"
      ],
      "execution_count": null,
      "outputs": []
    },
    {
      "cell_type": "code",
      "metadata": {
        "colab": {
          "base_uri": "https://localhost:8080/"
        },
        "id": "UbGsV8YwOvv2",
        "outputId": "40422c0b-2f54-48f1-f5fc-b3be9c3c43a0"
      },
      "source": [
        "# Selecting only firest n_user as to avoid crash :'\n",
        "rating_selected = rating.head(np.where(rating['user_id']==n_user)[0][-1]+1)\n",
        "rating_selected['rating'].replace({-1:0},inplace=True)\n"
      ],
      "execution_count": null,
      "outputs": [
        {
          "name": "stderr",
          "output_type": "stream",
          "text": [
            "/usr/local/lib/python3.7/dist-packages/pandas/core/series.py:4582: SettingWithCopyWarning: \n",
            "A value is trying to be set on a copy of a slice from a DataFrame\n",
            "\n",
            "See the caveats in the documentation: https://pandas.pydata.org/pandas-docs/stable/user_guide/indexing.html#returning-a-view-versus-a-copy\n",
            "  method=method,\n"
          ]
        }
      ]
    },
    {
      "cell_type": "code",
      "metadata": {
        "id": "ZfTa-yyJPIiJ"
      },
      "source": [
        "# for collabaritve add your rating here but have to retrain the whole model tho it may give better result\n",
        "uid = n_user+1\n",
        "my_ratings = {\n",
        "    32281:9,5114:8,32935:7,4181:9,28851:10,1575:10,30276:8,1535:10,19:8,32182:8,\n",
        "    16498:8,13601:5,19815:10,10863:10,25781:9,4224:6,6811:5\n",
        "\n",
        "}\n",
        "print('Your id :{} \\n Rating :{} '.format(uid,my_ratings))\n",
        "# rating_selected_new = rating_selected.copy()\n",
        "for a_id,rate in my_ratings.items():\n",
        "  rating_selected.loc[len(rating_selected.index)] = [uid, a_id, rate]\n",
        "\n",
        "rating_selected['rating'] = rating_selected['rating'].apply(sigmoid) \n",
        "rating_selected.tail()\n"
      ],
      "execution_count": null,
      "outputs": []
    },
    {
      "cell_type": "code",
      "metadata": {
        "id": "Cfbm4lJSPhyN"
      },
      "source": [
        "user_anime_interaction = pd.pivot_table(rating_selected, index='user_id', columns='anime_id', values='rating')\n",
        "user_anime_interaction.fillna(0,inplace=True)\n",
        "user_anime_csr = csr_matrix(user_anime_interaction.values)\n"
      ],
      "execution_count": null,
      "outputs": []
    },
    {
      "cell_type": "code",
      "metadata": {
        "id": "2231usWTRuxS"
      },
      "source": [
        "n_users, n_items = user_anime_interaction.shape"
      ],
      "execution_count": null,
      "outputs": []
    },
    {
      "cell_type": "code",
      "metadata": {
        "id": "daoW1QoCPugo"
      },
      "source": [
        "#Creating Dataset object so to ease mappings \n",
        "# Making user features matrix\n",
        "nanime = anime.set_index('anime_id')\n",
        "nuser = rating_selected.set_index('user_id')\n",
        "total_genres =  sorted(set((\",\".join(map(lambda x: str(x).strip(), anime['genre'].values))).split(',')))[:-1]\n",
        "\n",
        "  \n",
        "def create_UserFeature(rating_selected,start_id=1,end_id=n_user,new_user=False,new_user_id=n_user+1,new_userDat={}):\n",
        "  user_data = []\n",
        "  for user_id in range(start_id,end_id+1):\n",
        "    filter_user = (nuser.loc[user_id].iloc[np.where(nuser.loc[user_id]['rating'] !=0)])\n",
        "    total_anime_watch = len(filter_user)\n",
        "    \n",
        "    if total_anime_watch ==0:\n",
        "      genres_user = list()\n",
        "    else:\n",
        "      genres_user = nanime.loc[filter_user['anime_id']]['genre']\n",
        "    \n",
        "      if isinstance(genres_user,str):\n",
        "        genres_user= [genres_user]\n",
        "      else:\n",
        "        genres_user = genres_user.values\n",
        "    \n",
        "    # print('\\n-->',user_id,total_anime_watch,genres_user)\n",
        "    \n",
        "    user_gen_dat = {}\n",
        "    all_genres = (','.join(map(lambda x:str(x),genres_user))).split(',')\n",
        "    total_anime_watch = total_anime_watch if total_anime_watch else 1\n",
        "\n",
        "    for unique_gen in total_genres:\n",
        "      \n",
        "      user_gen_dat[unique_gen] = all_genres.count(unique_gen)/total_anime_watch\n",
        "    # user_data.append([user_id,sorted(set(all_genres).intersection(total_genres))])\n",
        "    \n",
        "    user_data.append([user_id,user_gen_dat])\n",
        "  # print(user_data[0],len(user_data[0][1].keys()))\n",
        "  return user_data  \n"
      ],
      "execution_count": null,
      "outputs": []
    },
    {
      "cell_type": "code",
      "metadata": {
        "id": "MTsIyypdQPBR"
      },
      "source": [
        "#Init the dataset \n",
        "dataset = Dataset(user_identity_features=False)\n",
        "dataset.fit(np.arange(1,n_user+1),rating_selected.sort_values(by='anime_id')['anime_id'].unique(),user_features=total_genres,item_features=[\"Name\"])\n",
        "user_features = dataset.build_user_features(create_UserFeature(rating_selected),normalize=False)\n"
      ],
      "execution_count": null,
      "outputs": []
    },
    {
      "cell_type": "code",
      "metadata": {
        "colab": {
          "base_uri": "https://localhost:8080/"
        },
        "id": "LEbRDKQIPrnF",
        "outputId": "a3f0f148-7771-4101-9c9b-349e766e356e"
      },
      "source": [
        "# Training the model \n",
        "model = LightFM(loss='warp')\n",
        "\n",
        "model = model.fit(user_anime_csr,\n",
        "                  user_features=user_features,#comment this if  you want Pure CF\n",
        "                  epochs=150,\n",
        "                  num_threads=16, verbose=True)"
      ],
      "execution_count": null,
      "outputs": [
        {
          "name": "stderr",
          "output_type": "stream",
          "text": [
            "Epoch: 100%|██████████| 150/150 [09:05<00:00,  3.64s/it]\n"
          ]
        }
      ]
    },
    {
      "cell_type": "code",
      "metadata": {
        "id": "TPEUrFY_RHFu"
      },
      "source": [
        "# Adding new user and giving top k anime recommendation\n",
        "def recommendME(model,anime,dataset,user_id=None,new_user_feature=None,k=5):\n",
        "  nanime=anime.set_index('anime_id')\n",
        "  if user_id is None:\n",
        "    user_id = n_users +1\n",
        "  if user_id > n_users:\n",
        "    for genre in total_genres:\n",
        "      if genre not in list(new_user_feature.keys()):\n",
        "        new_user_feature[genre] = 0\n",
        "    dataset.fit_partial(users=[user_id],user_features=total_genres)\n",
        "    # My Feature matrix\n",
        "    # new_user_feature = [user_id,{' Adventure': 0.11764705882352941, ' Cars': 0.0, ' Comedy': 0.23529411764705882, ' Dementia': 0.0, ' Demons': 0.058823529411764705, ' Drama': 0.17647058823529413, ' Ecchi': 0.058823529411764705, ' Fantasy': 0.35294117647058826, ' Game': 0.058823529411764705, ' Harem': 0.0, ' Hentai': 0.0, ' Historical': 0.0, ' Horror': 0.058823529411764705, ' Josei': 0.0, ' Kids': 0.0, ' Magic': 0.11764705882352941, ' Martial Arts': 0.0, ' Mecha': 0.058823529411764705, ' Military': 0.11764705882352941, ' Music': 0.0, ' Mystery': 0.058823529411764705, ' Parody': 0.058823529411764705, ' Police': 0.17647058823529413, ' Psychological': 0.17647058823529413, ' Romance': 0.23529411764705882, ' Samurai': 0.0, ' School': 0.29411764705882354, ' Sci-Fi': 0.17647058823529413, ' Seinen': 0.11764705882352941, ' Shoujo': 0.058823529411764705, ' Shoujo Ai': 0.0, ' Shounen': 0.29411764705882354, ' Shounen Ai': 0.0, ' Slice of Life': 0.17647058823529413, ' Space': 0.0, ' Sports': 0.058823529411764705, ' Super Power': 0.17647058823529413, ' Supernatural': 0.47058823529411764, ' Thriller': 0.17647058823529413, ' Vampire': 0.0, ' Yaoi': 0.0, ' Yuri': 0.0, 'Action': 0.47058823529411764, 'Adventure': 0.058823529411764705, 'Cars': 0.0, 'Comedy': 0.11764705882352941, 'Dementia': 0.0, 'Demons': 0.0, 'Drama': 0.23529411764705882, 'Ecchi': 0.0, 'Fantasy': 0.0, 'Game': 0.0, 'Harem': 0.0, 'Hentai': 0.0, 'Historical': 0.0, 'Horror': 0.0, 'Josei': 0.0, 'Kids': 0.0, 'Magic': 0.0, 'Martial Arts': 0.0, 'Mecha': 0.0, 'Military': 0.0, 'Music': 0.0, 'Mystery': 0.058823529411764705, 'Parody': 0.0, 'Police': 0.0, 'Psychological': 0.0, 'Romance': 0.0, 'Samurai': 0.0, 'School': 0.0, 'Sci-Fi': 0.058823529411764705, 'Seinen': 0.0, 'Shoujo': 0.0, 'Shounen': 0.0, 'Slice of Life': 0.0, 'Space': 0.0, 'Sports': 0.0, 'Super Power': 0.0, 'Supernatural': 0.0, 'Thriller': 0.0, 'Vampire': 0.0, 'Yaoi': 0.0} ] \n",
        "    new_user_feature = [user_id,new_user_feature]\n",
        "    new_user_feature = dataset.build_user_features([new_user_feature],normalize=False)\n",
        "  user_id_map = dataset.mapping()[0][user_id] # just user_id -1 \n",
        "  scores = model.predict(user_id_map, np.arange(n_items),user_features=new_user_feature)\n",
        "  rank = np.argsort(-scores)\n",
        "  selected_anime_id =np.array(list(dataset.mapping()[2].keys()))[rank]\n",
        "  top_items = nanime.loc[selected_anime_id]\n",
        "\n",
        "  return top_items['name'][:k].values      \n",
        "\n"
      ],
      "execution_count": 99,
      "outputs": []
    },
    {
      "cell_type": "code",
      "metadata": {
        "id": "lDS6jLq0Vron"
      },
      "source": [
        "recommendME(model,anime,dataset,new_user_feature={'Ecchi':1,'Drama':0.5,'Fantasy':0.75,'Harem':0.9,'Hentai':0,'Comedy':0.96})"
      ],
      "execution_count": null,
      "outputs": []
    },
    {
      "cell_type": "code",
      "metadata": {
        "id": "Z1Ox3Fnuj36y"
      },
      "source": [
        "# Model AUC: 98... and Precision at K 0.60\n",
        "# for me : split data  into train and test and evaluate model on that \n",
        "train_k = precision_at_k(model,user_anime_csr,user_features=user_features)\n",
        "\n",
        "train_auc = auc_score(model, user_anime_csr, num_threads=16,user_features=user_features).mean()\n",
        "\n",
        "print('Collaborative filtering train AUC: {} \\n Precision at k users {} '.format(train_auc , train_k.mean()))"
      ],
      "execution_count": null,
      "outputs": []
    },
    {
      "cell_type": "code",
      "metadata": {
        "id": "2uGfz8wgSbF9"
      },
      "source": [
        ""
      ],
      "execution_count": null,
      "outputs": []
    }
  ]
}